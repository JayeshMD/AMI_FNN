{
 "cells": [
  {
   "cell_type": "code",
   "execution_count": null,
   "metadata": {},
   "outputs": [],
   "source": [
    "import numpy as np\n",
    "import amifnn as af\n",
    "import matplotlib.pyplot as plt"
   ]
  },
  {
   "cell_type": "code",
   "execution_count": null,
   "metadata": {},
   "outputs": [],
   "source": [
    "t = np.linspace(0,10,2001)\n",
    "x = np.sin(2*np.pi*t) + np.random.normal(0,1e-2,len(t))"
   ]
  },
  {
   "cell_type": "code",
   "execution_count": null,
   "metadata": {},
   "outputs": [],
   "source": [
    "sampling_time = t[2]-t[1]\n",
    "tau_max = 100              # index\n",
    "fnn_threshold = len(x) * (1/100)      # 0.1 % of lenght of x  "
   ]
  },
  {
   "cell_type": "code",
   "execution_count": null,
   "metadata": {},
   "outputs": [],
   "source": [
    "ami, tau_ami, dim, fnn, fnn_zero, dim_sel, delay_vec_sel = af.ami_fnn(x, sampling_time, tau_max, fnn_threshold, win =20, dim_max = 15)"
   ]
  },
  {
   "cell_type": "code",
   "execution_count": null,
   "metadata": {},
   "outputs": [],
   "source": [
    "print(\"tau_ami_fnn =\", tau_ami)\n",
    "print(\"aim_ami_fnn =\", dim_sel)"
   ]
  },
  {
   "cell_type": "code",
   "execution_count": null,
   "metadata": {},
   "outputs": [],
   "source": [
    "tau = np.arange(len(ami))\n",
    "plt.plot(ami,'b', linewidth=2)\n",
    "plt.plot(tau_ami , ami[tau_ami],'*r', markersize=15)\n",
    "plt.xlabel('$\\\\tau$', fontsize = 20)\n",
    "plt.ylabel('$AMI$', fontsize = 20)\n",
    "plt.xlim([min(tau),max(tau)])"
   ]
  },
  {
   "cell_type": "code",
   "execution_count": null,
   "metadata": {},
   "outputs": [],
   "source": [
    "dim = np.arange(len(fnn))+1\n",
    "plt.plot(dim, fnn, 'b', linewidth=2)\n",
    "plt.plot(dim[fnn_zero], fnn[fnn_zero],'*r', markersize=20)\n",
    "plt.xlabel('$dimension$', fontsize = 20)\n",
    "plt.ylabel('$FNN$', fontsize = 20)\n",
    "plt.xlim(min(dim), max(dim))"
   ]
  }
 ],
 "metadata": {
  "kernelspec": {
   "display_name": "python3.10.6",
   "language": "python",
   "name": "python3"
  },
  "language_info": {
   "codemirror_mode": {
    "name": "ipython",
    "version": 3
   },
   "file_extension": ".py",
   "mimetype": "text/x-python",
   "name": "python",
   "nbconvert_exporter": "python",
   "pygments_lexer": "ipython3",
   "version": "3.10.12"
  },
  "orig_nbformat": 4
 },
 "nbformat": 4,
 "nbformat_minor": 2
}
